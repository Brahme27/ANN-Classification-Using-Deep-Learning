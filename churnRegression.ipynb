{
 "cells": [
  {
   "cell_type": "markdown",
   "metadata": {
    "vscode": {
     "languageId": "plaintext"
    }
   },
   "source": [
    "Same usecase we are going to solve using regression  for finding salary of a customer"
   ]
  },
  {
   "cell_type": "code",
   "execution_count": 45,
   "metadata": {},
   "outputs": [],
   "source": [
    "import pandas as pd  \n",
    "from sklearn.model_selection import train_test_split\n",
    "from sklearn.preprocessing import StandardScaler,LabelEncoder,OneHotEncoder \n",
    "import pickle "
   ]
  },
  {
   "cell_type": "code",
   "execution_count": 46,
   "metadata": {},
   "outputs": [
    {
     "data": {
      "text/html": [
       "<div>\n",
       "<style scoped>\n",
       "    .dataframe tbody tr th:only-of-type {\n",
       "        vertical-align: middle;\n",
       "    }\n",
       "\n",
       "    .dataframe tbody tr th {\n",
       "        vertical-align: top;\n",
       "    }\n",
       "\n",
       "    .dataframe thead th {\n",
       "        text-align: right;\n",
       "    }\n",
       "</style>\n",
       "<table border=\"1\" class=\"dataframe\">\n",
       "  <thead>\n",
       "    <tr style=\"text-align: right;\">\n",
       "      <th></th>\n",
       "      <th>RowNumber</th>\n",
       "      <th>CustomerId</th>\n",
       "      <th>Surname</th>\n",
       "      <th>CreditScore</th>\n",
       "      <th>Geography</th>\n",
       "      <th>Gender</th>\n",
       "      <th>Age</th>\n",
       "      <th>Tenure</th>\n",
       "      <th>Balance</th>\n",
       "      <th>NumOfProducts</th>\n",
       "      <th>HasCrCard</th>\n",
       "      <th>IsActiveMember</th>\n",
       "      <th>EstimatedSalary</th>\n",
       "      <th>Exited</th>\n",
       "    </tr>\n",
       "  </thead>\n",
       "  <tbody>\n",
       "    <tr>\n",
       "      <th>0</th>\n",
       "      <td>1</td>\n",
       "      <td>15634602</td>\n",
       "      <td>Hargrave</td>\n",
       "      <td>619</td>\n",
       "      <td>France</td>\n",
       "      <td>Female</td>\n",
       "      <td>42</td>\n",
       "      <td>2</td>\n",
       "      <td>0.00</td>\n",
       "      <td>1</td>\n",
       "      <td>1</td>\n",
       "      <td>1</td>\n",
       "      <td>101348.88</td>\n",
       "      <td>1</td>\n",
       "    </tr>\n",
       "    <tr>\n",
       "      <th>1</th>\n",
       "      <td>2</td>\n",
       "      <td>15647311</td>\n",
       "      <td>Hill</td>\n",
       "      <td>608</td>\n",
       "      <td>Spain</td>\n",
       "      <td>Female</td>\n",
       "      <td>41</td>\n",
       "      <td>1</td>\n",
       "      <td>83807.86</td>\n",
       "      <td>1</td>\n",
       "      <td>0</td>\n",
       "      <td>1</td>\n",
       "      <td>112542.58</td>\n",
       "      <td>0</td>\n",
       "    </tr>\n",
       "    <tr>\n",
       "      <th>2</th>\n",
       "      <td>3</td>\n",
       "      <td>15619304</td>\n",
       "      <td>Onio</td>\n",
       "      <td>502</td>\n",
       "      <td>France</td>\n",
       "      <td>Female</td>\n",
       "      <td>42</td>\n",
       "      <td>8</td>\n",
       "      <td>159660.80</td>\n",
       "      <td>3</td>\n",
       "      <td>1</td>\n",
       "      <td>0</td>\n",
       "      <td>113931.57</td>\n",
       "      <td>1</td>\n",
       "    </tr>\n",
       "    <tr>\n",
       "      <th>3</th>\n",
       "      <td>4</td>\n",
       "      <td>15701354</td>\n",
       "      <td>Boni</td>\n",
       "      <td>699</td>\n",
       "      <td>France</td>\n",
       "      <td>Female</td>\n",
       "      <td>39</td>\n",
       "      <td>1</td>\n",
       "      <td>0.00</td>\n",
       "      <td>2</td>\n",
       "      <td>0</td>\n",
       "      <td>0</td>\n",
       "      <td>93826.63</td>\n",
       "      <td>0</td>\n",
       "    </tr>\n",
       "    <tr>\n",
       "      <th>4</th>\n",
       "      <td>5</td>\n",
       "      <td>15737888</td>\n",
       "      <td>Mitchell</td>\n",
       "      <td>850</td>\n",
       "      <td>Spain</td>\n",
       "      <td>Female</td>\n",
       "      <td>43</td>\n",
       "      <td>2</td>\n",
       "      <td>125510.82</td>\n",
       "      <td>1</td>\n",
       "      <td>1</td>\n",
       "      <td>1</td>\n",
       "      <td>79084.10</td>\n",
       "      <td>0</td>\n",
       "    </tr>\n",
       "  </tbody>\n",
       "</table>\n",
       "</div>"
      ],
      "text/plain": [
       "   RowNumber  CustomerId   Surname  ...  IsActiveMember EstimatedSalary Exited\n",
       "0          1    15634602  Hargrave  ...               1       101348.88      1\n",
       "1          2    15647311      Hill  ...               1       112542.58      0\n",
       "2          3    15619304      Onio  ...               0       113931.57      1\n",
       "3          4    15701354      Boni  ...               0        93826.63      0\n",
       "4          5    15737888  Mitchell  ...               1        79084.10      0\n",
       "\n",
       "[5 rows x 14 columns]"
      ]
     },
     "execution_count": 46,
     "metadata": {},
     "output_type": "execute_result"
    }
   ],
   "source": [
    "df=pd.read_csv(\"Churn_Modelling.csv\")\n",
    "df.head()"
   ]
  },
  {
   "cell_type": "code",
   "execution_count": 47,
   "metadata": {},
   "outputs": [],
   "source": [
    "#Estimated salary is the output feature and remaing all are the input feature"
   ]
  },
  {
   "cell_type": "code",
   "execution_count": 48,
   "metadata": {},
   "outputs": [],
   "source": [
    "#Preprocess the data\n",
    "df.drop(labels=[\"RowNumber\",\"CustomerId\",\"Surname\"],axis=1,inplace=True)"
   ]
  },
  {
   "cell_type": "code",
   "execution_count": 49,
   "metadata": {},
   "outputs": [
    {
     "data": {
      "text/html": [
       "<div>\n",
       "<style scoped>\n",
       "    .dataframe tbody tr th:only-of-type {\n",
       "        vertical-align: middle;\n",
       "    }\n",
       "\n",
       "    .dataframe tbody tr th {\n",
       "        vertical-align: top;\n",
       "    }\n",
       "\n",
       "    .dataframe thead th {\n",
       "        text-align: right;\n",
       "    }\n",
       "</style>\n",
       "<table border=\"1\" class=\"dataframe\">\n",
       "  <thead>\n",
       "    <tr style=\"text-align: right;\">\n",
       "      <th></th>\n",
       "      <th>CreditScore</th>\n",
       "      <th>Geography</th>\n",
       "      <th>Gender</th>\n",
       "      <th>Age</th>\n",
       "      <th>Tenure</th>\n",
       "      <th>Balance</th>\n",
       "      <th>NumOfProducts</th>\n",
       "      <th>HasCrCard</th>\n",
       "      <th>IsActiveMember</th>\n",
       "      <th>EstimatedSalary</th>\n",
       "      <th>Exited</th>\n",
       "    </tr>\n",
       "  </thead>\n",
       "  <tbody>\n",
       "    <tr>\n",
       "      <th>0</th>\n",
       "      <td>619</td>\n",
       "      <td>France</td>\n",
       "      <td>Female</td>\n",
       "      <td>42</td>\n",
       "      <td>2</td>\n",
       "      <td>0.00</td>\n",
       "      <td>1</td>\n",
       "      <td>1</td>\n",
       "      <td>1</td>\n",
       "      <td>101348.88</td>\n",
       "      <td>1</td>\n",
       "    </tr>\n",
       "    <tr>\n",
       "      <th>1</th>\n",
       "      <td>608</td>\n",
       "      <td>Spain</td>\n",
       "      <td>Female</td>\n",
       "      <td>41</td>\n",
       "      <td>1</td>\n",
       "      <td>83807.86</td>\n",
       "      <td>1</td>\n",
       "      <td>0</td>\n",
       "      <td>1</td>\n",
       "      <td>112542.58</td>\n",
       "      <td>0</td>\n",
       "    </tr>\n",
       "    <tr>\n",
       "      <th>2</th>\n",
       "      <td>502</td>\n",
       "      <td>France</td>\n",
       "      <td>Female</td>\n",
       "      <td>42</td>\n",
       "      <td>8</td>\n",
       "      <td>159660.80</td>\n",
       "      <td>3</td>\n",
       "      <td>1</td>\n",
       "      <td>0</td>\n",
       "      <td>113931.57</td>\n",
       "      <td>1</td>\n",
       "    </tr>\n",
       "    <tr>\n",
       "      <th>3</th>\n",
       "      <td>699</td>\n",
       "      <td>France</td>\n",
       "      <td>Female</td>\n",
       "      <td>39</td>\n",
       "      <td>1</td>\n",
       "      <td>0.00</td>\n",
       "      <td>2</td>\n",
       "      <td>0</td>\n",
       "      <td>0</td>\n",
       "      <td>93826.63</td>\n",
       "      <td>0</td>\n",
       "    </tr>\n",
       "    <tr>\n",
       "      <th>4</th>\n",
       "      <td>850</td>\n",
       "      <td>Spain</td>\n",
       "      <td>Female</td>\n",
       "      <td>43</td>\n",
       "      <td>2</td>\n",
       "      <td>125510.82</td>\n",
       "      <td>1</td>\n",
       "      <td>1</td>\n",
       "      <td>1</td>\n",
       "      <td>79084.10</td>\n",
       "      <td>0</td>\n",
       "    </tr>\n",
       "  </tbody>\n",
       "</table>\n",
       "</div>"
      ],
      "text/plain": [
       "   CreditScore Geography  Gender  ...  IsActiveMember  EstimatedSalary  Exited\n",
       "0          619    France  Female  ...               1        101348.88       1\n",
       "1          608     Spain  Female  ...               1        112542.58       0\n",
       "2          502    France  Female  ...               0        113931.57       1\n",
       "3          699    France  Female  ...               0         93826.63       0\n",
       "4          850     Spain  Female  ...               1         79084.10       0\n",
       "\n",
       "[5 rows x 11 columns]"
      ]
     },
     "execution_count": 49,
     "metadata": {},
     "output_type": "execute_result"
    }
   ],
   "source": [
    "df.head()"
   ]
  },
  {
   "cell_type": "code",
   "execution_count": 50,
   "metadata": {},
   "outputs": [],
   "source": [
    "#Encode the Categorical Variables\n",
    "#Label encoder for gender\n",
    "label_encoder_gender=LabelEncoder()\n",
    "df[\"Gender\"]=label_encoder_gender.fit_transform(df[\"Gender\"])"
   ]
  },
  {
   "cell_type": "code",
   "execution_count": 51,
   "metadata": {},
   "outputs": [
    {
     "data": {
      "text/html": [
       "<div>\n",
       "<style scoped>\n",
       "    .dataframe tbody tr th:only-of-type {\n",
       "        vertical-align: middle;\n",
       "    }\n",
       "\n",
       "    .dataframe tbody tr th {\n",
       "        vertical-align: top;\n",
       "    }\n",
       "\n",
       "    .dataframe thead th {\n",
       "        text-align: right;\n",
       "    }\n",
       "</style>\n",
       "<table border=\"1\" class=\"dataframe\">\n",
       "  <thead>\n",
       "    <tr style=\"text-align: right;\">\n",
       "      <th></th>\n",
       "      <th>Geography_France</th>\n",
       "      <th>Geography_Germany</th>\n",
       "      <th>Geography_Spain</th>\n",
       "    </tr>\n",
       "  </thead>\n",
       "  <tbody>\n",
       "    <tr>\n",
       "      <th>0</th>\n",
       "      <td>1.0</td>\n",
       "      <td>0.0</td>\n",
       "      <td>0.0</td>\n",
       "    </tr>\n",
       "    <tr>\n",
       "      <th>1</th>\n",
       "      <td>0.0</td>\n",
       "      <td>0.0</td>\n",
       "      <td>1.0</td>\n",
       "    </tr>\n",
       "    <tr>\n",
       "      <th>2</th>\n",
       "      <td>1.0</td>\n",
       "      <td>0.0</td>\n",
       "      <td>0.0</td>\n",
       "    </tr>\n",
       "    <tr>\n",
       "      <th>3</th>\n",
       "      <td>1.0</td>\n",
       "      <td>0.0</td>\n",
       "      <td>0.0</td>\n",
       "    </tr>\n",
       "    <tr>\n",
       "      <th>4</th>\n",
       "      <td>0.0</td>\n",
       "      <td>0.0</td>\n",
       "      <td>1.0</td>\n",
       "    </tr>\n",
       "  </tbody>\n",
       "</table>\n",
       "</div>"
      ],
      "text/plain": [
       "   Geography_France  Geography_Germany  Geography_Spain\n",
       "0               1.0                0.0              0.0\n",
       "1               0.0                0.0              1.0\n",
       "2               1.0                0.0              0.0\n",
       "3               1.0                0.0              0.0\n",
       "4               0.0                0.0              1.0"
      ]
     },
     "execution_count": 51,
     "metadata": {},
     "output_type": "execute_result"
    }
   ],
   "source": [
    "#onehot ecnoding for geograhpy\n",
    "onehot_enoder_geo=OneHotEncoder()\n",
    "geo_encoded=onehot_enoder_geo.fit_transform(df[[\"Geography\"]]).toarray()\n",
    "geo_encoded_df=pd.DataFrame(geo_encoded,columns=onehot_enoder_geo.get_feature_names_out([\"Geography\"]))\n",
    "geo_encoded_df.head()"
   ]
  },
  {
   "cell_type": "code",
   "execution_count": 52,
   "metadata": {},
   "outputs": [],
   "source": [
    "#Combine onehot encoded columns with original data \n",
    "df=pd.concat([df.drop(\"Geography\",axis=1),geo_encoded_df],axis=1)"
   ]
  },
  {
   "cell_type": "code",
   "execution_count": 53,
   "metadata": {},
   "outputs": [
    {
     "data": {
      "text/html": [
       "<div>\n",
       "<style scoped>\n",
       "    .dataframe tbody tr th:only-of-type {\n",
       "        vertical-align: middle;\n",
       "    }\n",
       "\n",
       "    .dataframe tbody tr th {\n",
       "        vertical-align: top;\n",
       "    }\n",
       "\n",
       "    .dataframe thead th {\n",
       "        text-align: right;\n",
       "    }\n",
       "</style>\n",
       "<table border=\"1\" class=\"dataframe\">\n",
       "  <thead>\n",
       "    <tr style=\"text-align: right;\">\n",
       "      <th></th>\n",
       "      <th>CreditScore</th>\n",
       "      <th>Gender</th>\n",
       "      <th>Age</th>\n",
       "      <th>Tenure</th>\n",
       "      <th>Balance</th>\n",
       "      <th>NumOfProducts</th>\n",
       "      <th>HasCrCard</th>\n",
       "      <th>IsActiveMember</th>\n",
       "      <th>EstimatedSalary</th>\n",
       "      <th>Exited</th>\n",
       "      <th>Geography_France</th>\n",
       "      <th>Geography_Germany</th>\n",
       "      <th>Geography_Spain</th>\n",
       "    </tr>\n",
       "  </thead>\n",
       "  <tbody>\n",
       "    <tr>\n",
       "      <th>0</th>\n",
       "      <td>619</td>\n",
       "      <td>0</td>\n",
       "      <td>42</td>\n",
       "      <td>2</td>\n",
       "      <td>0.00</td>\n",
       "      <td>1</td>\n",
       "      <td>1</td>\n",
       "      <td>1</td>\n",
       "      <td>101348.88</td>\n",
       "      <td>1</td>\n",
       "      <td>1.0</td>\n",
       "      <td>0.0</td>\n",
       "      <td>0.0</td>\n",
       "    </tr>\n",
       "    <tr>\n",
       "      <th>1</th>\n",
       "      <td>608</td>\n",
       "      <td>0</td>\n",
       "      <td>41</td>\n",
       "      <td>1</td>\n",
       "      <td>83807.86</td>\n",
       "      <td>1</td>\n",
       "      <td>0</td>\n",
       "      <td>1</td>\n",
       "      <td>112542.58</td>\n",
       "      <td>0</td>\n",
       "      <td>0.0</td>\n",
       "      <td>0.0</td>\n",
       "      <td>1.0</td>\n",
       "    </tr>\n",
       "    <tr>\n",
       "      <th>2</th>\n",
       "      <td>502</td>\n",
       "      <td>0</td>\n",
       "      <td>42</td>\n",
       "      <td>8</td>\n",
       "      <td>159660.80</td>\n",
       "      <td>3</td>\n",
       "      <td>1</td>\n",
       "      <td>0</td>\n",
       "      <td>113931.57</td>\n",
       "      <td>1</td>\n",
       "      <td>1.0</td>\n",
       "      <td>0.0</td>\n",
       "      <td>0.0</td>\n",
       "    </tr>\n",
       "    <tr>\n",
       "      <th>3</th>\n",
       "      <td>699</td>\n",
       "      <td>0</td>\n",
       "      <td>39</td>\n",
       "      <td>1</td>\n",
       "      <td>0.00</td>\n",
       "      <td>2</td>\n",
       "      <td>0</td>\n",
       "      <td>0</td>\n",
       "      <td>93826.63</td>\n",
       "      <td>0</td>\n",
       "      <td>1.0</td>\n",
       "      <td>0.0</td>\n",
       "      <td>0.0</td>\n",
       "    </tr>\n",
       "    <tr>\n",
       "      <th>4</th>\n",
       "      <td>850</td>\n",
       "      <td>0</td>\n",
       "      <td>43</td>\n",
       "      <td>2</td>\n",
       "      <td>125510.82</td>\n",
       "      <td>1</td>\n",
       "      <td>1</td>\n",
       "      <td>1</td>\n",
       "      <td>79084.10</td>\n",
       "      <td>0</td>\n",
       "      <td>0.0</td>\n",
       "      <td>0.0</td>\n",
       "      <td>1.0</td>\n",
       "    </tr>\n",
       "  </tbody>\n",
       "</table>\n",
       "</div>"
      ],
      "text/plain": [
       "   CreditScore  Gender  ...  Geography_Germany  Geography_Spain\n",
       "0          619       0  ...                0.0              0.0\n",
       "1          608       0  ...                0.0              1.0\n",
       "2          502       0  ...                0.0              0.0\n",
       "3          699       0  ...                0.0              0.0\n",
       "4          850       0  ...                0.0              1.0\n",
       "\n",
       "[5 rows x 13 columns]"
      ]
     },
     "execution_count": 53,
     "metadata": {},
     "output_type": "execute_result"
    }
   ],
   "source": [
    "df.head()"
   ]
  },
  {
   "cell_type": "markdown",
   "metadata": {},
   "source": [
    "Dividing The input and Output Features"
   ]
  },
  {
   "cell_type": "code",
   "execution_count": 54,
   "metadata": {},
   "outputs": [],
   "source": [
    "X=df.drop(\"EstimatedSalary\",axis=1)\n",
    "y=df[\"EstimatedSalary\"]"
   ]
  },
  {
   "cell_type": "markdown",
   "metadata": {},
   "source": [
    "Train Test Split "
   ]
  },
  {
   "cell_type": "code",
   "execution_count": 55,
   "metadata": {},
   "outputs": [],
   "source": [
    "X_train,X_test,y_train,y_test=train_test_split(X,y,test_size=0.2,random_state=42)"
   ]
  },
  {
   "cell_type": "markdown",
   "metadata": {},
   "source": [
    "Standardization "
   ]
  },
  {
   "cell_type": "code",
   "execution_count": 56,
   "metadata": {},
   "outputs": [],
   "source": [
    "scaler=StandardScaler()\n",
    "X_train=scaler.fit_transform(X_train)\n",
    "X_test=scaler.transform(X_test)"
   ]
  },
  {
   "cell_type": "code",
   "execution_count": 57,
   "metadata": {},
   "outputs": [],
   "source": [
    "#Saving all encoders and scaler in pickle formats in furthur use\n",
    "with open(\"label_encoder_gender.pkl\",\"wb\") as file:\n",
    "    pickle.dump(label_encoder_gender,file)\n",
    "\n",
    "with open(\"onehot_encoder_geo.pkl\",'wb') as file:\n",
    "    pickle.dump(onehot_enoder_geo,file)\n",
    "\n",
    "with open(\"scaler.pkl\",\"wb\") as file:\n",
    "    pickle.dump(scaler,file)"
   ]
  },
  {
   "cell_type": "markdown",
   "metadata": {},
   "source": [
    "ANN Regression Problem Statement"
   ]
  },
  {
   "cell_type": "code",
   "execution_count": 58,
   "metadata": {},
   "outputs": [],
   "source": [
    "import tensorflow as tf  \n",
    "from tensorflow.keras.models import Sequential\n",
    "from tensorflow.keras.layers import Dense "
   ]
  },
  {
   "cell_type": "markdown",
   "metadata": {},
   "source": [
    "Model Building "
   ]
  },
  {
   "cell_type": "code",
   "execution_count": 59,
   "metadata": {},
   "outputs": [],
   "source": [
    "model=Sequential([\n",
    "    Dense(64,activation=\"relu\",input_shape=(X_train.shape[1],)),#HL1\n",
    "    Dense(32,activation=\"relu\"),#HL2\n",
    "    Dense(1) #output layer\n",
    "])\n",
    "\n",
    "#compile the model\n",
    "model.compile(optimizer=\"adam\",loss=\"mean_absolute_error\",metrics=[\"mae\"])"
   ]
  },
  {
   "cell_type": "code",
   "execution_count": 60,
   "metadata": {},
   "outputs": [
    {
     "name": "stdout",
     "output_type": "stream",
     "text": [
      "Model: \"sequential_2\"\n",
      "_________________________________________________________________\n",
      " Layer (type)                Output Shape              Param #   \n",
      "=================================================================\n",
      " dense_6 (Dense)             (None, 64)                832       \n",
      "                                                                 \n",
      " dense_7 (Dense)             (None, 32)                2080      \n",
      "                                                                 \n",
      " dense_8 (Dense)             (None, 1)                 33        \n",
      "                                                                 \n",
      "=================================================================\n",
      "Total params: 2945 (11.50 KB)\n",
      "Trainable params: 2945 (11.50 KB)\n",
      "Non-trainable params: 0 (0.00 Byte)\n",
      "_________________________________________________________________\n"
     ]
    }
   ],
   "source": [
    "model.summary()"
   ]
  },
  {
   "cell_type": "markdown",
   "metadata": {},
   "source": [
    "setting Up logs "
   ]
  },
  {
   "cell_type": "code",
   "execution_count": 61,
   "metadata": {},
   "outputs": [],
   "source": [
    "from tensorflow.keras.callbacks import EarlyStopping,TensorBoard\n",
    "import datetime\n",
    "\n",
    "#set up tensorboard\n",
    "log_dir=\"regression/fit/\" +datetime.datetime.now().strftime(\"%Y%m%d-%H%M%S\")\n",
    "tensorBoard_callback=TensorBoard(log_dir,histogram_freq=1)"
   ]
  },
  {
   "cell_type": "code",
   "execution_count": 62,
   "metadata": {},
   "outputs": [],
   "source": [
    "#setting up early stopping\n",
    "early_stopping_callback=EarlyStopping(monitor='val_loss',patience=10,restore_best_weights=True)"
   ]
  },
  {
   "cell_type": "markdown",
   "metadata": {},
   "source": [
    "Training the model "
   ]
  },
  {
   "cell_type": "code",
   "execution_count": 63,
   "metadata": {},
   "outputs": [
    {
     "name": "stdout",
     "output_type": "stream",
     "text": [
      "Epoch 1/100\n",
      "250/250 [==============================] - 2s 5ms/step - loss: 100381.7109 - mae: 100381.7109 - val_loss: 98528.9609 - val_mae: 98528.9609\n",
      "Epoch 2/100\n",
      "250/250 [==============================] - 1s 3ms/step - loss: 99660.6953 - mae: 99660.6953 - val_loss: 97057.2734 - val_mae: 97057.2734\n",
      "Epoch 3/100\n",
      "250/250 [==============================] - 1s 3ms/step - loss: 97093.5859 - mae: 97093.5859 - val_loss: 93287.8750 - val_mae: 93287.8750\n",
      "Epoch 4/100\n",
      "250/250 [==============================] - 1s 3ms/step - loss: 92024.1016 - mae: 92024.1016 - val_loss: 86957.4453 - val_mae: 86957.4453\n",
      "Epoch 5/100\n",
      "250/250 [==============================] - 1s 3ms/step - loss: 84586.6016 - mae: 84586.6016 - val_loss: 78747.6094 - val_mae: 78747.6094\n",
      "Epoch 6/100\n",
      "250/250 [==============================] - 1s 4ms/step - loss: 75769.0000 - mae: 75769.0000 - val_loss: 70035.0234 - val_mae: 70035.0234\n",
      "Epoch 7/100\n",
      "250/250 [==============================] - 1s 3ms/step - loss: 67066.7656 - mae: 67066.7656 - val_loss: 62253.2578 - val_mae: 62253.2578\n",
      "Epoch 8/100\n",
      "250/250 [==============================] - 1s 3ms/step - loss: 59865.5273 - mae: 59865.5273 - val_loss: 56460.0195 - val_mae: 56460.0195\n",
      "Epoch 9/100\n",
      "250/250 [==============================] - 1s 3ms/step - loss: 55064.2266 - mae: 55064.2266 - val_loss: 53164.7617 - val_mae: 53164.7617\n",
      "Epoch 10/100\n",
      "250/250 [==============================] - 1s 3ms/step - loss: 52317.7344 - mae: 52317.7344 - val_loss: 51556.4688 - val_mae: 51556.4688\n",
      "Epoch 11/100\n",
      "250/250 [==============================] - 1s 4ms/step - loss: 51029.2852 - mae: 51029.2852 - val_loss: 51019.9219 - val_mae: 51019.9219\n",
      "Epoch 12/100\n",
      "250/250 [==============================] - 1s 3ms/step - loss: 50546.1094 - mae: 50546.1094 - val_loss: 50851.8203 - val_mae: 50851.8203\n",
      "Epoch 13/100\n",
      "250/250 [==============================] - 1s 4ms/step - loss: 50349.5156 - mae: 50349.5156 - val_loss: 50771.7266 - val_mae: 50771.7266\n",
      "Epoch 14/100\n",
      "250/250 [==============================] - 1s 4ms/step - loss: 50247.9297 - mae: 50247.9297 - val_loss: 50710.1172 - val_mae: 50710.1172\n",
      "Epoch 15/100\n",
      "250/250 [==============================] - 1s 4ms/step - loss: 50174.1484 - mae: 50174.1484 - val_loss: 50654.5078 - val_mae: 50654.5078\n",
      "Epoch 16/100\n",
      "250/250 [==============================] - 1s 4ms/step - loss: 50112.0352 - mae: 50112.0352 - val_loss: 50617.4336 - val_mae: 50617.4336\n",
      "Epoch 17/100\n",
      "250/250 [==============================] - 1s 4ms/step - loss: 50058.3398 - mae: 50058.3398 - val_loss: 50585.7188 - val_mae: 50585.7188\n",
      "Epoch 18/100\n",
      "250/250 [==============================] - 1s 4ms/step - loss: 50015.3750 - mae: 50015.3750 - val_loss: 50548.3398 - val_mae: 50548.3398\n",
      "Epoch 19/100\n",
      "250/250 [==============================] - 1s 4ms/step - loss: 49980.5078 - mae: 49980.5078 - val_loss: 50524.6406 - val_mae: 50524.6406\n",
      "Epoch 20/100\n",
      "250/250 [==============================] - 1s 4ms/step - loss: 49944.1328 - mae: 49944.1328 - val_loss: 50504.0430 - val_mae: 50504.0430\n",
      "Epoch 21/100\n",
      "250/250 [==============================] - 1s 3ms/step - loss: 49914.8516 - mae: 49914.8516 - val_loss: 50478.7930 - val_mae: 50478.7930\n",
      "Epoch 22/100\n",
      "250/250 [==============================] - 1s 3ms/step - loss: 49883.6602 - mae: 49883.6602 - val_loss: 50476.0352 - val_mae: 50476.0352\n",
      "Epoch 23/100\n",
      "250/250 [==============================] - 1s 4ms/step - loss: 49857.3164 - mae: 49857.3164 - val_loss: 50452.0977 - val_mae: 50452.0977\n",
      "Epoch 24/100\n",
      "250/250 [==============================] - 1s 4ms/step - loss: 49831.8867 - mae: 49831.8867 - val_loss: 50437.2773 - val_mae: 50437.2773\n",
      "Epoch 25/100\n",
      "250/250 [==============================] - 1s 4ms/step - loss: 49808.9766 - mae: 49808.9766 - val_loss: 50418.8164 - val_mae: 50418.8164\n",
      "Epoch 26/100\n",
      "250/250 [==============================] - 1s 3ms/step - loss: 49789.7539 - mae: 49789.7539 - val_loss: 50418.6445 - val_mae: 50418.6445\n",
      "Epoch 27/100\n",
      "250/250 [==============================] - 1s 4ms/step - loss: 49773.2188 - mae: 49773.2188 - val_loss: 50400.8516 - val_mae: 50400.8516\n",
      "Epoch 28/100\n",
      "250/250 [==============================] - 1s 4ms/step - loss: 49753.3438 - mae: 49753.3438 - val_loss: 50386.3984 - val_mae: 50386.3984\n",
      "Epoch 29/100\n",
      "250/250 [==============================] - 1s 4ms/step - loss: 49733.8867 - mae: 49733.8867 - val_loss: 50378.5156 - val_mae: 50378.5156\n",
      "Epoch 30/100\n",
      "250/250 [==============================] - 1s 4ms/step - loss: 49716.8086 - mae: 49716.8086 - val_loss: 50369.9453 - val_mae: 50369.9453\n",
      "Epoch 31/100\n",
      "250/250 [==============================] - 1s 4ms/step - loss: 49703.7148 - mae: 49703.7148 - val_loss: 50371.1367 - val_mae: 50371.1367\n",
      "Epoch 32/100\n",
      "250/250 [==============================] - 1s 4ms/step - loss: 49690.8633 - mae: 49690.8633 - val_loss: 50365.2227 - val_mae: 50365.2227\n",
      "Epoch 33/100\n",
      "250/250 [==============================] - 1s 4ms/step - loss: 49674.8555 - mae: 49674.8555 - val_loss: 50361.0742 - val_mae: 50361.0742\n",
      "Epoch 34/100\n",
      "250/250 [==============================] - 1s 4ms/step - loss: 49667.5703 - mae: 49667.5703 - val_loss: 50345.3203 - val_mae: 50345.3203\n",
      "Epoch 35/100\n",
      "250/250 [==============================] - 1s 4ms/step - loss: 49653.3281 - mae: 49653.3281 - val_loss: 50343.9805 - val_mae: 50343.9805\n",
      "Epoch 36/100\n",
      "250/250 [==============================] - 1s 3ms/step - loss: 49642.1328 - mae: 49642.1328 - val_loss: 50344.1055 - val_mae: 50344.1055\n",
      "Epoch 37/100\n",
      "250/250 [==============================] - 1s 3ms/step - loss: 49629.3828 - mae: 49629.3828 - val_loss: 50336.1719 - val_mae: 50336.1719\n",
      "Epoch 38/100\n",
      "250/250 [==============================] - 1s 4ms/step - loss: 49621.8164 - mae: 49621.8164 - val_loss: 50331.1992 - val_mae: 50331.1992\n",
      "Epoch 39/100\n",
      "250/250 [==============================] - 1s 3ms/step - loss: 49612.4844 - mae: 49612.4844 - val_loss: 50337.8633 - val_mae: 50337.8633\n",
      "Epoch 40/100\n",
      "250/250 [==============================] - 1s 4ms/step - loss: 49600.6758 - mae: 49600.6758 - val_loss: 50328.1211 - val_mae: 50328.1211\n",
      "Epoch 41/100\n",
      "250/250 [==============================] - 1s 4ms/step - loss: 49593.2305 - mae: 49593.2305 - val_loss: 50324.5273 - val_mae: 50324.5273\n",
      "Epoch 42/100\n",
      "250/250 [==============================] - 1s 4ms/step - loss: 49583.6406 - mae: 49583.6406 - val_loss: 50336.7227 - val_mae: 50336.7227\n",
      "Epoch 43/100\n",
      "250/250 [==============================] - 1s 4ms/step - loss: 49575.9531 - mae: 49575.9531 - val_loss: 50327.2188 - val_mae: 50327.2188\n",
      "Epoch 44/100\n",
      "250/250 [==============================] - 1s 4ms/step - loss: 49568.1250 - mae: 49568.1250 - val_loss: 50325.1719 - val_mae: 50325.1719\n",
      "Epoch 45/100\n",
      "250/250 [==============================] - 1s 4ms/step - loss: 49560.0156 - mae: 49560.0156 - val_loss: 50320.0117 - val_mae: 50320.0117\n",
      "Epoch 46/100\n",
      "250/250 [==============================] - 1s 4ms/step - loss: 49551.2266 - mae: 49551.2266 - val_loss: 50311.8086 - val_mae: 50311.8086\n",
      "Epoch 47/100\n",
      "250/250 [==============================] - 1s 4ms/step - loss: 49547.3828 - mae: 49547.3828 - val_loss: 50316.0508 - val_mae: 50316.0508\n",
      "Epoch 48/100\n",
      "250/250 [==============================] - 1s 4ms/step - loss: 49539.2305 - mae: 49539.2305 - val_loss: 50308.4531 - val_mae: 50308.4531\n",
      "Epoch 49/100\n",
      "250/250 [==============================] - 1s 4ms/step - loss: 49533.8516 - mae: 49533.8516 - val_loss: 50310.3242 - val_mae: 50310.3242\n",
      "Epoch 50/100\n",
      "250/250 [==============================] - 1s 4ms/step - loss: 49526.1172 - mae: 49526.1172 - val_loss: 50300.3203 - val_mae: 50300.3203\n",
      "Epoch 51/100\n",
      "250/250 [==============================] - 1s 4ms/step - loss: 49518.8359 - mae: 49518.8359 - val_loss: 50304.9414 - val_mae: 50304.9414\n",
      "Epoch 52/100\n",
      "250/250 [==============================] - 1s 4ms/step - loss: 49514.3047 - mae: 49514.3047 - val_loss: 50302.3555 - val_mae: 50302.3555\n",
      "Epoch 53/100\n",
      "250/250 [==============================] - 1s 4ms/step - loss: 49506.4102 - mae: 49506.4102 - val_loss: 50302.3984 - val_mae: 50302.3984\n",
      "Epoch 54/100\n",
      "250/250 [==============================] - 1s 4ms/step - loss: 49500.2539 - mae: 49500.2539 - val_loss: 50294.8984 - val_mae: 50294.8984\n",
      "Epoch 55/100\n",
      "250/250 [==============================] - 1s 4ms/step - loss: 49496.5156 - mae: 49496.5156 - val_loss: 50288.2227 - val_mae: 50288.2227\n",
      "Epoch 56/100\n",
      "250/250 [==============================] - 1s 3ms/step - loss: 49491.3711 - mae: 49491.3711 - val_loss: 50295.4258 - val_mae: 50295.4258\n",
      "Epoch 57/100\n",
      "250/250 [==============================] - 1s 3ms/step - loss: 49485.3359 - mae: 49485.3359 - val_loss: 50293.2969 - val_mae: 50293.2969\n",
      "Epoch 58/100\n",
      "250/250 [==============================] - 1s 3ms/step - loss: 49480.8828 - mae: 49480.8828 - val_loss: 50301.4102 - val_mae: 50301.4102\n",
      "Epoch 59/100\n",
      "250/250 [==============================] - 1s 4ms/step - loss: 49474.0977 - mae: 49474.0977 - val_loss: 50304.4023 - val_mae: 50304.4023\n",
      "Epoch 60/100\n",
      "250/250 [==============================] - 1s 4ms/step - loss: 49476.5977 - mae: 49476.5977 - val_loss: 50314.6484 - val_mae: 50314.6484\n",
      "Epoch 61/100\n",
      "250/250 [==============================] - 1s 3ms/step - loss: 49467.9453 - mae: 49467.9453 - val_loss: 50294.0859 - val_mae: 50294.0859\n",
      "Epoch 62/100\n",
      "250/250 [==============================] - 1s 3ms/step - loss: 49459.9961 - mae: 49459.9961 - val_loss: 50282.4609 - val_mae: 50282.4609\n",
      "Epoch 63/100\n",
      "250/250 [==============================] - 1s 3ms/step - loss: 49456.0039 - mae: 49456.0039 - val_loss: 50289.0312 - val_mae: 50289.0312\n",
      "Epoch 64/100\n",
      "250/250 [==============================] - 1s 4ms/step - loss: 49455.0430 - mae: 49455.0430 - val_loss: 50303.7031 - val_mae: 50303.7031\n",
      "Epoch 65/100\n",
      "250/250 [==============================] - 1s 3ms/step - loss: 49446.6562 - mae: 49446.6562 - val_loss: 50287.0469 - val_mae: 50287.0469\n",
      "Epoch 66/100\n",
      "250/250 [==============================] - 1s 4ms/step - loss: 49441.8828 - mae: 49441.8828 - val_loss: 50280.7305 - val_mae: 50280.7305\n",
      "Epoch 67/100\n",
      "250/250 [==============================] - 1s 4ms/step - loss: 49439.7305 - mae: 49439.7305 - val_loss: 50277.5977 - val_mae: 50277.5977\n",
      "Epoch 68/100\n",
      "250/250 [==============================] - 1s 4ms/step - loss: 49437.2227 - mae: 49437.2227 - val_loss: 50283.4141 - val_mae: 50283.4141\n",
      "Epoch 69/100\n",
      "250/250 [==============================] - 1s 4ms/step - loss: 49430.6406 - mae: 49430.6406 - val_loss: 50280.1289 - val_mae: 50280.1289\n",
      "Epoch 70/100\n",
      "250/250 [==============================] - 1s 4ms/step - loss: 49427.2266 - mae: 49427.2266 - val_loss: 50285.5742 - val_mae: 50285.5742\n",
      "Epoch 71/100\n",
      "250/250 [==============================] - 1s 4ms/step - loss: 49422.2461 - mae: 49422.2461 - val_loss: 50277.3906 - val_mae: 50277.3906\n",
      "Epoch 72/100\n",
      "250/250 [==============================] - 1s 4ms/step - loss: 49419.7891 - mae: 49419.7891 - val_loss: 50277.2734 - val_mae: 50277.2734\n",
      "Epoch 73/100\n",
      "250/250 [==============================] - 1s 4ms/step - loss: 49417.3281 - mae: 49417.3281 - val_loss: 50291.0703 - val_mae: 50291.0703\n",
      "Epoch 74/100\n",
      "250/250 [==============================] - 1s 3ms/step - loss: 49411.9844 - mae: 49411.9844 - val_loss: 50282.0898 - val_mae: 50282.0898\n",
      "Epoch 75/100\n",
      "250/250 [==============================] - 1s 3ms/step - loss: 49408.8672 - mae: 49408.8672 - val_loss: 50283.8477 - val_mae: 50283.8477\n",
      "Epoch 76/100\n",
      "250/250 [==============================] - 1s 4ms/step - loss: 49404.5625 - mae: 49404.5625 - val_loss: 50286.2148 - val_mae: 50286.2148\n",
      "Epoch 77/100\n",
      "250/250 [==============================] - 1s 4ms/step - loss: 49402.6016 - mae: 49402.6016 - val_loss: 50279.8672 - val_mae: 50279.8672\n",
      "Epoch 78/100\n",
      "250/250 [==============================] - 1s 4ms/step - loss: 49395.8750 - mae: 49395.8750 - val_loss: 50287.4688 - val_mae: 50287.4688\n",
      "Epoch 79/100\n",
      "250/250 [==============================] - 1s 4ms/step - loss: 49393.4883 - mae: 49393.4883 - val_loss: 50286.5664 - val_mae: 50286.5664\n",
      "Epoch 80/100\n",
      "250/250 [==============================] - 1s 4ms/step - loss: 49392.9336 - mae: 49392.9336 - val_loss: 50288.4414 - val_mae: 50288.4414\n",
      "Epoch 81/100\n",
      "250/250 [==============================] - 1s 4ms/step - loss: 49392.5469 - mae: 49392.5469 - val_loss: 50298.8008 - val_mae: 50298.8008\n",
      "Epoch 82/100\n",
      "250/250 [==============================] - 1s 3ms/step - loss: 49382.1523 - mae: 49382.1523 - val_loss: 50291.7031 - val_mae: 50291.7031\n"
     ]
    }
   ],
   "source": [
    "history=model.fit(\n",
    "    X_train,y_train,\n",
    "    validation_data=(X_test,y_test),\n",
    "    epochs=100,\n",
    "    callbacks=[early_stopping_callback,tensorBoard_callback]\n",
    ")"
   ]
  },
  {
   "cell_type": "code",
   "execution_count": 64,
   "metadata": {},
   "outputs": [
    {
     "name": "stdout",
     "output_type": "stream",
     "text": [
      "The tensorboard extension is already loaded. To reload it, use:\n",
      "  %reload_ext tensorboard\n"
     ]
    }
   ],
   "source": [
    "#Load tensorboard Extension\n",
    "%load_ext tensorboard"
   ]
  },
  {
   "cell_type": "code",
   "execution_count": 65,
   "metadata": {},
   "outputs": [],
   "source": [
    "#%tensorboard --logdir regression/fit"
   ]
  },
  {
   "cell_type": "markdown",
   "metadata": {},
   "source": [
    "Model evaluation on test data "
   ]
  },
  {
   "cell_type": "code",
   "execution_count": 66,
   "metadata": {},
   "outputs": [
    {
     "name": "stdout",
     "output_type": "stream",
     "text": [
      "63/63 [==============================] - 0s 2ms/step - loss: 50277.2734 - mae: 50277.2734\n",
      "[50277.2734375, 50277.2734375]\n"
     ]
    }
   ],
   "source": [
    "print(model.evaluate(X_test,y_test))"
   ]
  },
  {
   "cell_type": "code",
   "execution_count": 67,
   "metadata": {},
   "outputs": [
    {
     "name": "stdout",
     "output_type": "stream",
     "text": [
      "63/63 [==============================] - 0s 2ms/step - loss: 50277.2734 - mae: 50277.2734\n",
      "Test Loss: 50277.2734375\n",
      "Test MAE: 50277.2734375\n"
     ]
    }
   ],
   "source": [
    "test_loss,test_mae=model.evaluate(X_test,y_test)\n",
    "print(f\"Test Loss: {test_loss}\")\n",
    "print(f\"Test MAE: {test_mae}\")"
   ]
  },
  {
   "cell_type": "markdown",
   "metadata": {},
   "source": [
    "saving the model using .h5 format "
   ]
  },
  {
   "cell_type": "code",
   "execution_count": 68,
   "metadata": {},
   "outputs": [
    {
     "name": "stderr",
     "output_type": "stream",
     "text": [
      "d:\\Deep Learning Project Using ANN\\venv\\Lib\\site-packages\\keras\\src\\engine\\training.py:3103: UserWarning: You are saving your model as an HDF5 file via `model.save()`. This file format is considered legacy. We recommend using instead the native Keras format, e.g. `model.save('my_model.keras')`.\n",
      "  saving_api.save_model(\n"
     ]
    }
   ],
   "source": [
    "model.save(\"regression_model.h5\")"
   ]
  },
  {
   "cell_type": "code",
   "execution_count": null,
   "metadata": {},
   "outputs": [],
   "source": []
  }
 ],
 "metadata": {
  "kernelspec": {
   "display_name": "Python 3",
   "language": "python",
   "name": "python3"
  },
  "language_info": {
   "codemirror_mode": {
    "name": "ipython",
    "version": 3
   },
   "file_extension": ".py",
   "mimetype": "text/x-python",
   "name": "python",
   "nbconvert_exporter": "python",
   "pygments_lexer": "ipython3",
   "version": "3.11.0"
  }
 },
 "nbformat": 4,
 "nbformat_minor": 2
}
